{
 "cells": [
  {
   "cell_type": "code",
   "execution_count": 1,
   "id": "realistic-norfolk",
   "metadata": {},
   "outputs": [],
   "source": [
    "from hack_itau_quant import EfficientFrontier\n",
    "import pandas as pd\n",
    "import numpy as np\n",
    "import yfinance as yf"
   ]
  },
  {
   "cell_type": "code",
   "execution_count": 2,
   "id": "certified-template",
   "metadata": {},
   "outputs": [
    {
     "name": "stdout",
     "output_type": "stream",
     "text": [
      "[*********************100%***********************]  4 of 4 completed\n"
     ]
    }
   ],
   "source": [
    "tickers = ['BPAC11.SA', 'ITUB4.SA', 'OIBR3.SA', 'PETR4.SA']\n",
    "\n",
    "close_prices = yf.download(tickers, start='2017-01-01', end='2021-01-01')['Close']\n",
    "\n",
    "returns = close_prices.pct_change()[1:]\n",
    "\n",
    "expected_returns = returns.mean()\n",
    "cov_matrix = returns.cov()"
   ]
  },
  {
   "cell_type": "code",
   "execution_count": 3,
   "id": "regulated-school",
   "metadata": {},
   "outputs": [],
   "source": [
    "def get_weights(returns, target_return):\n",
    "    \n",
    "    expected_returns = returns.mean()\n",
    "    cov_matrix = returns.cov()\n",
    "    \n",
    "    ef = EfficientFrontier(expected_returns, cov_matrix)\n",
    "    weights = ef.efficient_return(target_return)\n",
    "    \n",
    "    return weights"
   ]
  },
  {
   "cell_type": "code",
   "execution_count": 4,
   "id": "played-peter",
   "metadata": {},
   "outputs": [
    {
     "data": {
      "text/plain": [
       "array([[0.2046185 ],\n",
       "       [0.63239379],\n",
       "       [0.11655584],\n",
       "       [0.04643187]])"
      ]
     },
     "execution_count": 4,
     "metadata": {},
     "output_type": "execute_result"
    }
   ],
   "source": [
    "get_weights(returns, target_return=0.001)"
   ]
  },
  {
   "cell_type": "code",
   "execution_count": 5,
   "id": "requested-freeware",
   "metadata": {},
   "outputs": [],
   "source": [
    "def markowitz_daily_return(wallet_returns, date_index, freq = 20,initial_value = 1):\n",
    "    \n",
    "    weights = get_weights(wallet_returns, 0.001)\n",
    "    \n",
    "    initial_values = np.multiply(initial_value , weights)\n",
    "    \n",
    "    cumulative_returns = wallet_returns.copy()\n",
    "    \n",
    "    for value, stock in zip(initial_values, range(len(wallet_returns.columns))):\n",
    "        cumulative_returns.iloc[:, stock] = value * (1 + wallet_returns.iloc[date_index -freq: date_index, stock]).cumprod()\n",
    "        \n",
    "    returns = np.sum(cumulative_returns.iloc[date_index - freq: date_index], axis=1)\n",
    "    \n",
    "    return list(returns)"
   ]
  },
  {
   "cell_type": "code",
   "execution_count": 6,
   "id": "certified-continuity",
   "metadata": {},
   "outputs": [
    {
     "data": {
      "text/plain": [
       "[0.8252653986347297,\n",
       " 0.8267700309858536,\n",
       " 0.8388223571320239,\n",
       " 0.8412420693207854,\n",
       " 0.8473766889059278,\n",
       " 0.8508865064719981,\n",
       " 0.8470373681001244,\n",
       " 0.870700087204391,\n",
       " 0.8611558828830216,\n",
       " 0.8712148784135598,\n",
       " 0.8879653178222366,\n",
       " 0.8775442217045077,\n",
       " 0.8715012604664726,\n",
       " 0.8782779221073678,\n",
       " 0.9014447010206853,\n",
       " 0.8994641310709148,\n",
       " 0.9193603525265442,\n",
       " 0.9304706137751627,\n",
       " 0.908308113539348,\n",
       " 0.9110856769284051]"
      ]
     },
     "execution_count": 6,
     "metadata": {},
     "output_type": "execute_result"
    }
   ],
   "source": [
    "markowitz_daily_return(returns, date_index=20)"
   ]
  },
  {
   "cell_type": "code",
   "execution_count": 7,
   "id": "welsh-fitness",
   "metadata": {},
   "outputs": [],
   "source": [
    "def to_numpy_array(lists):\n",
    "\n",
    "    final_list = []\n",
    "\n",
    "    for l in lists:\n",
    "        for item in l:\n",
    "              final_list.append(item)\n",
    "\n",
    "    return np.array(final_list)"
   ]
  },
  {
   "cell_type": "code",
   "execution_count": 8,
   "id": "nuclear-sister",
   "metadata": {},
   "outputs": [],
   "source": [
    "def backtesting(returns, rebalance_frequency, initial_value, investment_on_rebalance = 0):\n",
    "    cumulative_daily = list()\n",
    "    \n",
    "    for t in range(rebalance_frequency + 2, returns.shape[0], rebalance_frequency):\n",
    "        \n",
    "        cumulative_daily.append(\n",
    "            markowitz_daily_return(returns, t, initial_value = initial_value, freq = rebalance_frequency)\n",
    "        )\n",
    "        \n",
    "        initial_value = cumulative_daily[-1][-1] + investment_on_rebalance\n",
    "    \n",
    "    prices_left = returns.shape[0] % rebalance_frequency\n",
    "    \n",
    "    t = returns.shape[0] - prices_left\n",
    "    \n",
    "    has_prices_left = prices_left <= rebalance_frequency\n",
    "    if has_prices_left:\n",
    "        cumulative_daily.append(\n",
    "            markowitz_daily_return(returns, t, initial_value = initial_value, freq = prices_left)\n",
    "        )\n",
    "        \n",
    "    rts = to_numpy_array(cumulative_daily)\n",
    "    df = pd.DataFrame(rts)\n",
    "    df.index = returns.index\n",
    "    df.columns = ['Patrimônio']\n",
    "    \n",
    "    df.plot()"
   ]
  },
  {
   "cell_type": "code",
   "execution_count": 9,
   "id": "lucky-commander",
   "metadata": {},
   "outputs": [
    {
     "data": {
      "image/png": "[encoded data removed]",
      "text/plain": [
       "<Figure size 432x288 with 1 Axes>"
      ]
     },
     "metadata": {
      "needs_background": "light"
     },
     "output_type": "display_data"
    }
   ],
   "source": [
    "backtesting(returns, 20, 1000)"
   ]
  },
  {
   "cell_type": "code",
   "execution_count": 26,
   "id": "british-chassis",
   "metadata": {},
   "outputs": [],
   "source": [
    "class Backtesting:\n",
    "    \n",
    "    def __init__(self, returns, rebalance_frequency, initial_investment, investment_on_rebalance):\n",
    "        \n",
    "        self._returns = returns\n",
    "        self._n_assets = returns.shape[1]\n",
    "        self._n_periods = returns.shape[0]\n",
    "        \n",
    "        self._rebalance_frequency = rebalance_frequency\n",
    "        self._initial_investment = initial_investment\n",
    "        self._investment_on_rebalance = investment_on_rebalance\n",
    "        \n",
    "    def run(self):\n",
    "        cumulative_daily = list()\n",
    "        \n",
    "        initial_value = self._initial_investment\n",
    "\n",
    "        for t in range(self._rebalance_frequency + 2, self._n_periods, self._rebalance_frequency):\n",
    "\n",
    "            cumulative_daily.append(\n",
    "                self._get_daily_returns(date_index = t, initial_value = initial_value, freq = self._rebalance_frequency)\n",
    "            )\n",
    "\n",
    "            initial_value = cumulative_daily[-1][-1] + self._investment_on_rebalance\n",
    "\n",
    "        prices_left = self._n_periods % self._rebalance_frequency\n",
    "        has_prices_left = prices_left <= self._rebalance_frequency\n",
    "        if has_prices_left:\n",
    "                \n",
    "            t = self._n_periods - prices_left\n",
    "            \n",
    "            cumulative_daily.append(\n",
    "                self._get_daily_returns(t, initial_value = initial_value, freq = prices_left)\n",
    "            )\n",
    "\n",
    "        rts = to_numpy_array(cumulative_daily)\n",
    "        df = pd.DataFrame(rts)\n",
    "        df.index = returns.index\n",
    "        df.columns = ['Patrimônio']\n",
    "\n",
    "        return df\n",
    "\n",
    "    def _get_daily_returns(self, date_index, initial_value, freq):\n",
    "        \n",
    "        weights = Backtesting.get_markowitz_weights(self._returns.iloc[:date_index, :])\n",
    "\n",
    "        initial_values = np.multiply(initial_value , weights)\n",
    "\n",
    "        cumulative_returns = self._returns.copy()\n",
    "\n",
    "        for value, stock in zip(initial_values, range(len(self._returns.columns))):\n",
    "            cumulative_returns.iloc[:, stock] = value * (1 + self._returns.iloc[date_index -freq: date_index, stock]).cumprod()\n",
    "\n",
    "        returns = np.sum(cumulative_returns.iloc[date_index - freq: date_index], axis=1)\n",
    "\n",
    "        return list(returns)\n",
    "    \n",
    "    @staticmethod\n",
    "    def get_markowitz_weights(returns):\n",
    "    \n",
    "        expected_returns = returns.mean()\n",
    "        cov_matrix = returns.cov()\n",
    "\n",
    "        ef = EfficientFrontier(expected_returns, cov_matrix)\n",
    "        weights = ef.min_risk()\n",
    "        \n",
    "        return weights\n",
    "    \n",
    "    \n",
    "    @staticmethod\n",
    "    def get_equal_weights(n_assets):\n",
    "        \n",
    "        return np.ones(n_assets) / n_assets"
   ]
  },
  {
   "cell_type": "code",
   "execution_count": 27,
   "id": "consolidated-comparison",
   "metadata": {},
   "outputs": [],
   "source": [
    "backtesting = Backtesting(returns = returns, rebalance_frequency = 20, initial_investment = 1000, investment_on_rebalance = 0)"
   ]
  },
  {
   "cell_type": "code",
   "execution_count": 28,
   "id": "electric-guest",
   "metadata": {},
   "outputs": [
    {
     "data": {
      "text/html": [
       "<div>\n",
       "<style scoped>\n",
       "    .dataframe tbody tr th:only-of-type {\n",
       "        vertical-align: middle;\n",
       "    }\n",
       "\n",
       "    .dataframe tbody tr th {\n",
       "        vertical-align: top;\n",
       "    }\n",
       "\n",
       "    .dataframe thead th {\n",
       "        text-align: right;\n",
       "    }\n",
       "</style>\n",
       "<table border=\"1\" class=\"dataframe\">\n",
       "  <thead>\n",
       "    <tr style=\"text-align: right;\">\n",
       "      <th></th>\n",
       "      <th>Patrimônio</th>\n",
       "    </tr>\n",
       "    <tr>\n",
       "      <th>Date</th>\n",
       "      <th></th>\n",
       "    </tr>\n",
       "  </thead>\n",
       "  <tbody>\n",
       "    <tr>\n",
       "      <th>2017-01-03</th>\n",
       "      <td>0.0</td>\n",
       "    </tr>\n",
       "    <tr>\n",
       "      <th>2017-01-04</th>\n",
       "      <td>0.0</td>\n",
       "    </tr>\n",
       "    <tr>\n",
       "      <th>2017-01-05</th>\n",
       "      <td>0.0</td>\n",
       "    </tr>\n",
       "    <tr>\n",
       "      <th>2017-01-06</th>\n",
       "      <td>0.0</td>\n",
       "    </tr>\n",
       "    <tr>\n",
       "      <th>2017-01-09</th>\n",
       "      <td>0.0</td>\n",
       "    </tr>\n",
       "    <tr>\n",
       "      <th>...</th>\n",
       "      <td>...</td>\n",
       "    </tr>\n",
       "    <tr>\n",
       "      <th>2020-12-22</th>\n",
       "      <td>0.0</td>\n",
       "    </tr>\n",
       "    <tr>\n",
       "      <th>2020-12-23</th>\n",
       "      <td>0.0</td>\n",
       "    </tr>\n",
       "    <tr>\n",
       "      <th>2020-12-28</th>\n",
       "      <td>0.0</td>\n",
       "    </tr>\n",
       "    <tr>\n",
       "      <th>2020-12-29</th>\n",
       "      <td>0.0</td>\n",
       "    </tr>\n",
       "    <tr>\n",
       "      <th>2020-12-30</th>\n",
       "      <td>0.0</td>\n",
       "    </tr>\n",
       "  </tbody>\n",
       "</table>\n",
       "<p>992 rows × 1 columns</p>\n",
       "</div>"
      ],
      "text/plain": [
       "            Patrimônio\n",
       "Date                  \n",
       "2017-01-03         0.0\n",
       "2017-01-04         0.0\n",
       "2017-01-05         0.0\n",
       "2017-01-06         0.0\n",
       "2017-01-09         0.0\n",
       "...                ...\n",
       "2020-12-22         0.0\n",
       "2020-12-23         0.0\n",
       "2020-12-28         0.0\n",
       "2020-12-29         0.0\n",
       "2020-12-30         0.0\n",
       "\n",
       "[992 rows x 1 columns]"
      ]
     },
     "execution_count": 28,
     "metadata": {},
     "output_type": "execute_result"
    }
   ],
   "source": [
    "backtesting.run()"
   ]
  },
  {
   "cell_type": "code",
   "execution_count": 19,
   "id": "unlike-berry",
   "metadata": {},
   "outputs": [
    {
     "data": {
      "text/plain": [
       "<AxesSubplot:xlabel='Date'>"
      ]
     },
     "execution_count": 19,
     "metadata": {},
     "output_type": "execute_result"
    },
    {
     "data": {
      "image/png": "[encoded data removed]",
      "text/plain": [
       "<Figure size 432x288 with 1 Axes>"
      ]
     },
     "metadata": {
      "needs_background": "light"
     },
     "output_type": "display_data"
    }
   ],
   "source": [
    "_.plot()"
   ]
  },
  {
   "cell_type": "code",
   "execution_count": 14,
   "id": "foster-buffer",
   "metadata": {},
   "outputs": [
    {
     "name": "stderr",
     "output_type": "stream",
     "text": [
      "/mnt/c/Users/lucas/Desktop/Codes/hack-itau-quant/hack_itau_quant/optimization/markowitz.py:57: RuntimeWarning: invalid value encountered in sqrt\n",
      "  start_risk = 1 / np.sqrt(self._C)\n"
     ]
    }
   ],
   "source": [
    "for i in range(30, returns.shape[0]):\n",
    "    Backtesting.get_markowitz_weights(returns.iloc[:i, :])"
   ]
  },
  {
   "cell_type": "code",
   "execution_count": 15,
   "id": "useful-advertising",
   "metadata": {},
   "outputs": [
    {
     "data": {
      "text/plain": [
       "array([[0.09692714],\n",
       "       [0.76527519],\n",
       "       [0.11173587],\n",
       "       [0.0260618 ]])"
      ]
     },
     "execution_count": 15,
     "metadata": {},
     "output_type": "execute_result"
    }
   ],
   "source": [
    "Backtesting.get_markowitz_weights(returns.iloc[30:, :])"
   ]
  },
  {
   "cell_type": "code",
   "execution_count": null,
   "id": "automatic-personality",
   "metadata": {},
   "outputs": [],
   "source": []
  }
 ],
 "metadata": {
  "kernelspec": {
   "display_name": "Python 3",
   "language": "python",
   "name": "python3"
  },
  "language_info": {
   "codemirror_mode": {
    "name": "ipython",
    "version": 3
   },
   "file_extension": ".py",
   "mimetype": "text/x-python",
   "name": "python",
   "nbconvert_exporter": "python",
   "pygments_lexer": "ipython3",
   "version": "3.9.2"
  }
 },
 "nbformat": 4,
 "nbformat_minor": 5
}
